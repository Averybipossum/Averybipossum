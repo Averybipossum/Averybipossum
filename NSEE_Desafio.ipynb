{
  "nbformat": 4,
  "nbformat_minor": 0,
  "metadata": {
    "colab": {
      "provenance": [],
      "authorship_tag": "ABX9TyOspt0AUUCgtXIMWtte+1zx",
      "include_colab_link": true
    },
    "kernelspec": {
      "name": "python3",
      "display_name": "Python 3"
    },
    "language_info": {
      "name": "python"
    }
  },
  "cells": [
    {
      "cell_type": "markdown",
      "metadata": {
        "id": "view-in-github",
        "colab_type": "text"
      },
      "source": [
        "<a href=\"https://colab.research.google.com/github/Averybipossum/Averybipossum/blob/main/NSEE_Desafio.ipynb\" target=\"_parent\"><img src=\"https://colab.research.google.com/assets/colab-badge.svg\" alt=\"Open In Colab\"/></a>"
      ]
    },
    {
      "cell_type": "markdown",
      "source": [
        "Fazer um pip install dbfread"
      ],
      "metadata": {
        "id": "7VGtpgctMENl"
      }
    },
    {
      "cell_type": "code",
      "execution_count": null,
      "metadata": {
        "id": "OrbRyLJ_L5eO"
      },
      "outputs": [],
      "source": [
        "# imports necessários\n",
        "import pandas as pd\n",
        "from dbfread import DBF\n",
        "import numpy as np\n",
        "\n",
        "# Mudar a path qunado for terstar o sistema <<<<<<<<<\n",
        "table = DBF(\"C:/Users/rutra/Downloads/pacigeral_jun24.dbf\", encoding='latin-1')\n",
        "\n",
        "# Transformando em dataframe panda\n",
        "dados = pd.DataFrame(iter(table))\n",
        "\n",
        "# 1. Selecionar pacientes com Topografia de pulmão (TOPOGRUP = C34);\n",
        "topo_pulmao = dados.where(dados['TOPOGRUP'].isin(['C34']))\n",
        "#print(topo_pulmao.head())\n",
        "\n",
        "# 2. Selecionar pacientes com estado de Residência de São Paulo (UFRESID = SP);\n",
        "ufresid = dados.where(dados['UFRESID'].isin(['SP']))\n",
        "#print(ufresid.head())\n",
        "\n",
        "# 3. Selecionar pacientes com Base do Diagn ́ostico com Confirmação Microscópica (BASEDIAG = 3);\n",
        "diag_micro = dados.where(dados['BASEDIAG'].isin([3]))\n",
        "#print(diag_micro.head())\n",
        "\n",
        "# 4. Retirar categorias 0, X e Y da coluna ECGRUP;\n",
        "dados['ECGRUP'] = dados['ECGRUP'].where(~dados['ECGRUP'].isin([0, 'X', 'Y']))\n",
        "novoEcgrup = dados['ECGRUP']\n",
        "# print(novoEcgrup.head())\n",
        "\n",
        "# 5. Retirar pacientes que fizeram Hormonioterapia e TMO (HORMONIO = 1 e TMO = 1);\n",
        "dados['HORMONIO'] = dados['HORMONIO'].where(~dados['HORMONIO'] == 1)\n",
        "dados['TMO'] = dados['TMO'].where(~dados['TMO'] == 1)\n",
        "novoHorm = dados['HORMONIO']\n",
        "novoTmo = dados['TMO']\n",
        "# print(novoHorm.head(), novoTmo.head())\n",
        "\n",
        "# 6. Selecionar pacientes com Ano de Diagnóstico até 2019 (ANODIAG ¡= 2019);\n",
        "ate2019 = dados.where(dados['ANODIAG'] <= 2019)\n",
        "# print(ate2019.head())\n",
        "\n",
        "# 7. Retirar pacientes com IDADE menor do que 20 anos;\n",
        "dados['IDADE']= dados['IDADE'].where(~dados['IDADE'] < 20)\n",
        "idadeAbaixoD20 = dados['IDADE']\n",
        "# print(idadeAbaixoD20.head())\n",
        "\n",
        "# 8. Calcular a diferença em dias entre Diagnóstico e Consulta, Tratamento e Diagnóstico,Tratamento e Consulta, a partir dessas 3 datas (DTCONSULT, DTDIAG e DTTRAT).\n",
        "dados['DTDIAG'] = pd.to_datetime(dados['DTDIAG'])\n",
        "dados['DTCONSULT'] = pd.to_datetime(dados['DTCONSULT'])\n",
        "dados['DTTRAT'] = pd.to_datetime(dados['DTTRAT'])\n",
        "\n",
        "# Calculando a diferença\n",
        "dados['CONSDIAG'] = (dados['DTCONSULT'] - dados['DTDIAG']).dt.days\n",
        "dados['DIAGTRAT'] = (dados['DTTRAT'] - dados['DTDIAG']).dt.days\n",
        "dados['TRATCONS'] = (dados['DTTRAT'] - dados['DTCONSULT']).dt.days\n",
        "\n",
        "# Estruturando conforme as regras\n",
        "dados['CONSDIAG'] = pd.cut(dados['CONSDIAG'],\n",
        "                         bins=[-float('inf'), 30, 60, float('inf')],\n",
        "                         labels=[0, 1, 2])\n",
        "\n",
        "dados['DIAGTRAT'] = pd.cut(dados['DIAGTRAT'].fillna(-1),\n",
        "                         bins=[-float('inf'), 60, 90, float('inf')],\n",
        "                         labels=[0, 1, 2],\n",
        "                         right=False)\n",
        "dados['DIAGTRAT'] = dados['DIAGTRAT'].cat.add_categories([3])\n",
        "dados['DIAGTRAT'] = dados['DIAGTRAT'].fillna(3)  # Se DTTRAT é NaN, colocar 3 (não tratou)\n",
        "\n",
        "# Para a coluna TRATCONS, tratando os casos em que não houve tratamento\n",
        "dados['TRATCONS'] = pd.cut(dados['TRATCONS'].fillna(-1),\n",
        "                         bins=[-float('inf'), 60, 90, float('inf')],\n",
        "                         labels=[0, 1, 2],\n",
        "                         right=False)\n",
        "dados['TRATCONS'] = dados['TRATCONS'].cat.add_categories([3])\n",
        "dados['TRATCONS'] = dados['TRATCONS'].fillna(3)  # Se DTTRAT é NaN, colocar 3 (não tratou)\n",
        "\n",
        "# print(dados[['CONSDIAG', 'DIAGTRAT', 'TRATCONS']].head())\n",
        "\n",
        "# 9.Extrair somente o número das colunas DRS e DRSINSTITU;\n",
        "numColsDrs = dados.where(dados['DRS'].str.extract('(\\\\d+)'))\n",
        "numColDrsInsti = dados[dados['DRSINST'].str.extract('(\\\\d+)')]\n",
        "#print(numColsDrs.head(), numColDrsInsti.head())\n",
        "\n",
        "#10. Criar a coluna binária de ́obito, a partir da coluna ULTINFO, onde as categorias 1 e\n",
        "# 2 representam que o paciente est ́a vivo e as 3 e 4 representam o  ́obito por qualquer\n",
        "# motivo;\n",
        "dados['OBITO'] = np.where(dados['ULTINFO'].isin([3, 4]), 1, 0)\n",
        "obito = dados['OBITO']\n",
        "# print(obito)\n",
        "\n",
        "# 11. Retirar colunas\n",
        "colunas_para_remover = [\n",
        "    'UFNASC', 'UFRESID', 'CIDADE', 'DTCONSULT', 'CLINICA', 'DTDIAG',\n",
        "    'BASEDIAG', 'TOPOGRUP', 'DESCTOPO', 'DESCMORFO', 'T', 'N', 'M',\n",
        "    'PT', 'PN', 'PM', 'S', 'G', 'LOCALTNM', 'IDMITOTIC', 'PSA', 'GLEASON',\n",
        "    'OUTRACLA', 'META01', 'META02', 'META03', 'META04', 'DTTRAT', 'NAOTRAT',\n",
        "    'TRATAMENTO', 'TRATHOSP', 'TRATFANTES', 'TRATFAPOS', 'HORMONIO',\n",
        "    'TMO', 'NENHUMANT', 'CIRURANT', 'RADIOANT', 'QUIMIOANT', 'HORMOANT',\n",
        "    'TMOANT', 'IMUNOANT', 'OUTROANT', 'HORMOAPOS', 'TMOAPOS', 'DTULTINFO',\n",
        "    'CICI', 'CICIGRUP', 'CICISUBGRU', 'FAIXAETAR', 'LATERALI', 'INSTORIG',\n",
        "    'RRAS', 'ERRO', 'DTRECIDIVA', 'RECNENHUM', 'RECLOCAL', 'RECREGIO',\n",
        "    'RECDIST', 'REC01', 'REC02', 'REC03', 'REC04', 'CIDO',\n",
        "    'HABILIT', 'HABIT11', 'HABILIT1', 'CIDADEH', 'PERDASEG'\n",
        "]\n",
        "#  'DSCCIDO' não existente\n",
        "dados = dados.drop(columns=colunas_para_remover)\n",
        "#print(dados.head())"
      ]
    }
  ]
}